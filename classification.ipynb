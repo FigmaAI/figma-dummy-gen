{
 "cells": [
  {
   "cell_type": "markdown",
   "metadata": {
    "id": "FE7KNzPPVrVV"
   },
   "source": [
    "# Creating a TensorFlow.js Model for UI Image Classification"
   ]
  },
  {
   "cell_type": "markdown",
   "metadata": {
    "id": "gN7G9GFmVrVY"
   },
   "source": [
    "This tutorial demonstrates how to classify images of UI elements such as buttons and checkboxes using a tf.keras.Sequential model and how to load data using tf.keras.utils.image_dataset_from_directory. It covers the following concepts:\n",
    "\n",
    "- Efficiently loading a dataset off the disk.\n",
    "- Identifying overfitting and applying techniques to mitigate it, including data augmentation and dropout.\n",
    "\n",
    "This tutorial follows a basic machine learning workflow:\n",
    "\n",
    "1. Examine and understand the data\n",
    "2. Build an input pipeline\n",
    "3. Construct the model\n",
    "4. Train the model\n",
    "5. Test the model\n",
    "6. Improve the model and repeat the process\n",
    "\n",
    "Additionally, this notebook illustrates how to convert a saved model into a TensorFlow.js model for use in Figma.\n",
    "\n",
    "This Colab notebook is based on the TensorFlow tutorial document available at [this link](https://www.tensorflow.org/tutorials/images/classification)."
   ]
  },
  {
   "cell_type": "markdown",
   "metadata": {
    "id": "zF9uvbXNVrVY"
   },
   "source": [
    "## Setup\n",
    "\n",
    "Import TensorFlow and other necessary libraries:"
   ]
  },
  {
   "cell_type": "code",
   "execution_count": null,
   "metadata": {
    "execution": {
     "iopub.execute_input": "2022-12-15T01:26:33.969596Z",
     "iopub.status.busy": "2022-12-15T01:26:33.969019Z",
     "iopub.status.idle": "2022-12-15T01:26:36.478141Z",
     "shell.execute_reply": "2022-12-15T01:26:36.477328Z"
    },
    "id": "L1WtoaOHVrVh"
   },
   "outputs": [],
   "source": [
    "import matplotlib.pyplot as plt\n",
    "import numpy as np\n",
    "import PIL\n",
    "import tensorflow as tf\n",
    "\n",
    "from tensorflow import keras\n",
    "from tensorflow.keras import layers\n",
    "from tensorflow.keras.models import Sequential\n",
    "\n",
    "print(\"TF version:\", tf.__version__)\n",
    "print(\"GPU is\", \"available\" if tf.config.list_physical_devices('GPU') else \"NOT AVAILABLE\")"
   ]
  },
  {
   "cell_type": "markdown",
   "metadata": {
    "id": "DPHx8-t-VrVo"
   },
   "source": [
    "## Preparing Your Images\n",
    "\n",
    "To ensure the best results from your model, it is crucial to prepare a robust dataset. Follow these steps to gather and organize your images:\n",
    "\n",
    "1. **Collect Images:** Begin by collecting images of various UI components. These could be from actual projects, screen captures, or even extracted from Figma. Aim to gather at least dozens of images for each UI category (folder). The more images you have, the better your model will perform.\n",
    "\n",
    "2. **Use Figma-Dummy-Gen:** If you're struggling to find enough images, consider using the [figma-dummy-gen](https://github.com/dusskapark/figma-dummy-gen) plugin. This tool can generate images for you, supplementing your existing collection.\n",
    "\n",
    "3. **Organize Your Images:** Once you've gathered your images, place them in the `dataset/TF_Image_classification` folder. Your folder structure should look something like this:\n",
    "\n",
    "```\n",
    "TF_Image_classification\n",
    "|__ UI_Category_1\n",
    "    |______ image1.jpg\n",
    "    |______ image2.jpg\n",
    "    |______ ...\n",
    "|__ UI_Category_2\n",
    "    |______ image1.jpg\n",
    "    |______ image2.jpg\n",
    "    |______ ...\n",
    "```"
   ]
  },
  {
   "cell_type": "code",
   "execution_count": null,
   "metadata": {},
   "outputs": [],
   "source": [
    "import os\n",
    "\n",
    "# Define the root path and the origin path\n",
    "root_path = os.path.expanduser('./dataset/')\n",
    "origin_path = root_path + 'TF_Image_classification/' # folder that contains the dummy images\n",
    "screenshot_path = root_path + 'screenshot/' # folder that contains the real images that captured from the UI or Figma projects \n",
    "ui_path = root_path + 'ui/' # final UI dataset folder \n",
    "\n",
    "# Print the root path and the origin path\n",
    "print('Origin path:', origin_path)\n",
    "print('Screenshot path:', screenshot_path)\n",
    "print('UI path:', ui_path)\n"
   ]
  },
  {
   "cell_type": "markdown",
   "metadata": {},
   "source": [
    "\n",
    "### Adjusting Dataset Images\n",
    "\n",
    "The images in the dataset must be adjusted to match the input size of the model. For example, for MobileNetV3, the input size is 224x224x3, so the images in the dataset need to be adjusted to this size. The adjusted images are stored in the `ui_path` folder.\n"
   ]
  },
  {
   "cell_type": "code",
   "execution_count": null,
   "metadata": {},
   "outputs": [],
   "source": [
    "from PIL import Image\n",
    "\n",
    "# Set the limit for the number of images per folder\n",
    "LIMIT_IMAGES = 300  # Set to None for no limit\n",
    "\n",
    "# Create the new directory if it doesn't exist\n",
    "os.makedirs(ui_path, exist_ok=True)\n",
    "\n",
    "# Get the list of all folders in the origin and screenshot paths\n",
    "all_folders = set(os.listdir(origin_path) + os.listdir(screenshot_path))\n",
    "\n",
    "# Loop through each folder in the list\n",
    "for folder_name in all_folders:\n",
    "    # Construct the full path to the origin and screenshot folders\n",
    "    origin_folder_path = os.path.join(origin_path, folder_name)\n",
    "    screenshot_folder_path = os.path.join(screenshot_path, folder_name)\n",
    "\n",
    "    # Check if the origin and screenshot folders exist\n",
    "    origin_exists = os.path.isdir(origin_folder_path)\n",
    "    screenshot_exists = os.path.isdir(screenshot_folder_path)\n",
    "\n",
    "    # If neither folder exists, skip this folder\n",
    "    if not origin_exists and not screenshot_exists:\n",
    "        print(f\"Folder {folder_name} does not exist in either the origin or screenshot path. Please check the data.\")\n",
    "        continue\n",
    "\n",
    "    # Get the list of files in the origin and screenshot folders\n",
    "    origin_files = os.listdir(origin_folder_path) if origin_exists else []\n",
    "    screenshot_files = os.listdir(screenshot_folder_path) if screenshot_exists else []\n",
    "\n",
    "    # If there is a limit and the number of screenshot files is greater than the limit\n",
    "    if LIMIT_IMAGES is not None and len(screenshot_files) > LIMIT_IMAGES:\n",
    "        print(f\"Folder {folder_name} has more than {LIMIT_IMAGES} images. Please check the data.\")\n",
    "        continue\n",
    "\n",
    "    # Calculate the number of files to select from the origin folder\n",
    "    num_files_to_select = min(len(origin_files), LIMIT_IMAGES-len(screenshot_files)) if LIMIT_IMAGES is not None else len(origin_files)\n",
    "\n",
    "    # Randomly select files from the origin folder\n",
    "    selected_origin_files = np.random.choice(origin_files, size=num_files_to_select, replace=False).tolist() if num_files_to_select > 0 else []\n",
    "\n",
    "    # Combine the screenshot and selected origin files\n",
    "    combined_files = screenshot_files + selected_origin_files\n",
    "\n",
    "    # Shuffle the combined files\n",
    "    np.random.shuffle(combined_files)\n",
    "\n",
    "    # Create the new folder if it doesn't exist\n",
    "    new_folder_path = os.path.join(ui_path, folder_name)\n",
    "    os.makedirs(new_folder_path, exist_ok=True)\n",
    "    \n",
    "    # Loop through each file in the combined files\n",
    "    for filename in combined_files:\n",
    "        # Only process .png files\n",
    "        if filename.endswith('.png'):\n",
    "            # Check if the file is from the screenshot or origin folder\n",
    "            if filename in screenshot_files:\n",
    "                folder_path = screenshot_folder_path\n",
    "            else:\n",
    "                folder_path = origin_folder_path\n",
    "\n",
    "            # Construct the full path to the file\n",
    "            file_path = os.path.join(folder_path, filename)\n",
    "            \n",
    "            # Open the image file\n",
    "            img = Image.open(file_path).convert(\"RGBA\")\n",
    "            \n",
    "            # Get the width and height of the image\n",
    "            width, height = img.size\n",
    "            \n",
    "            # Create a new square image with alpha channel\n",
    "            new_image = Image.new('RGBA', (max(width, height), max(width, height)))\n",
    "            \n",
    "            # Paste the original image into the center of the new image\n",
    "            new_image.paste(img, (int((new_image.width - img.width) / 2), int((new_image.height - img.height) / 2)))\n",
    "            \n",
    "            # Create a white background image\n",
    "            bg = Image.new('RGBA', new_image.size, (255, 255, 255, 255))  # RGBA mode\n",
    "            \n",
    "            # Combine the new image with the white background\n",
    "            final_image = Image.alpha_composite(bg, new_image)\n",
    "            \n",
    "            # Resize the final image to the target size\n",
    "            final_image = final_image.resize([224, 224], Image.LANCZOS)\n",
    "            \n",
    "            # Construct the new file path\n",
    "            new_file_path = os.path.join(new_folder_path, filename)\n",
    "            \n",
    "            # Save the new image as PNG\n",
    "            final_image.save(new_file_path, format='PNG')\n",
    "            \n",
    "            # Print the result\n",
    "            print(f\"Saved new image at {new_file_path}\")"
   ]
  },
  {
   "cell_type": "markdown",
   "metadata": {},
   "source": [
    "You can use the following code to identify the names of each folder and the number of files in each folder. This will help you keep track of your dataset and ensure you have enough images for each category."
   ]
  },
  {
   "cell_type": "code",
   "execution_count": null,
   "metadata": {},
   "outputs": [],
   "source": [
    "# Function to get the number of files in a directory\n",
    "def get_num_files(path):\n",
    "    return len([entry for entry in os.scandir(path) if entry.is_file()])\n",
    "\n",
    "# Function to print the directory tree\n",
    "def draw_folder_tree(path, level=0):\n",
    "    expanded_path = os.path.expanduser(path)\n",
    "    folders_files_count = {}\n",
    "\n",
    "    for entry in os.scandir(expanded_path):\n",
    "        if entry.is_dir():\n",
    "            num_files = get_num_files(entry.path)\n",
    "            folders_files_count[entry.name] = num_files\n",
    "\n",
    "    sorted_folders_files_count = sorted(folders_files_count.items(), key=lambda item: item[0])\n",
    "\n",
    "    for folder_name, files_count in sorted_folders_files_count:\n",
    "        print(f\"{'    '*level}|- {folder_name}/ ({files_count} files)\")\n",
    "        draw_folder_tree(os.path.join(path, folder_name), level+1)\n",
    "        \n",
    "# Draw the folder tree of the directory\n",
    "print('dataset/ui:')\n",
    "draw_folder_tree(ui_path)"
   ]
  },
  {
   "cell_type": "markdown",
   "metadata": {
    "id": "gIjgz7_JIo_m"
   },
   "source": [
    "## Load data using a Keras utility\n",
    "\n",
    "Next, load these images off disk using the helpful tf.keras.utils.image_dataset_from_directory utility. This will take you from a directory of images on disk to a tf.data.Dataset in just a couple lines of code."
   ]
  },
  {
   "cell_type": "markdown",
   "metadata": {
    "id": "xyDNn9MbIzfT"
   },
   "source": [
    "### Create a dataset"
   ]
  },
  {
   "cell_type": "markdown",
   "metadata": {
    "id": "anqiK_AGI086"
   },
   "source": [
    "Define some parameters for the loader:"
   ]
  },
  {
   "cell_type": "code",
   "execution_count": null,
   "metadata": {
    "execution": {
     "iopub.execute_input": "2022-12-15T01:26:36.693727Z",
     "iopub.status.busy": "2022-12-15T01:26:36.693192Z",
     "iopub.status.idle": "2022-12-15T01:26:36.696664Z",
     "shell.execute_reply": "2022-12-15T01:26:36.696067Z"
    },
    "id": "H74l2DoDI2XD"
   },
   "outputs": [],
   "source": [
    "batch_size = 32\n",
    "img_height = 224\n",
    "img_width = 224"
   ]
  },
  {
   "cell_type": "markdown",
   "metadata": {
    "id": "pFBhRrrEI49z"
   },
   "source": [
    "It's good practice to use a validation split when developing your model. Use 80% of the images for training and 20% for validation."
   ]
  },
  {
   "cell_type": "code",
   "execution_count": null,
   "metadata": {
    "execution": {
     "iopub.execute_input": "2022-12-15T01:26:36.700553Z",
     "iopub.status.busy": "2022-12-15T01:26:36.699958Z",
     "iopub.status.idle": "2022-12-15T01:26:40.582785Z",
     "shell.execute_reply": "2022-12-15T01:26:40.581747Z"
    },
    "id": "fIR0kRZiI_AT"
   },
   "outputs": [],
   "source": [
    "train_ds = tf.keras.utils.image_dataset_from_directory(\n",
    "  ui_path,\n",
    "  validation_split=0.2,\n",
    "  subset=\"training\",\n",
    "  seed=123,\n",
    "  image_size=(img_height, img_width),\n",
    "  batch_size=batch_size)"
   ]
  },
  {
   "cell_type": "code",
   "execution_count": null,
   "metadata": {
    "execution": {
     "iopub.execute_input": "2022-12-15T01:26:40.587487Z",
     "iopub.status.busy": "2022-12-15T01:26:40.586718Z",
     "iopub.status.idle": "2022-12-15T01:26:40.750333Z",
     "shell.execute_reply": "2022-12-15T01:26:40.749360Z"
    },
    "id": "iscU3UoVJBXj"
   },
   "outputs": [],
   "source": [
    "val_ds = tf.keras.utils.image_dataset_from_directory(\n",
    "  ui_path,\n",
    "  validation_split=0.2,\n",
    "  subset=\"validation\",\n",
    "  seed=123,\n",
    "  image_size=(img_height, img_width),\n",
    "  batch_size=batch_size)"
   ]
  },
  {
   "cell_type": "markdown",
   "metadata": {
    "id": "WLQULyAvJC3X"
   },
   "source": [
    "You can find the class names in the `class_names` attribute on these datasets. These correspond to the directory names in alphabetical order."
   ]
  },
  {
   "cell_type": "code",
   "execution_count": null,
   "metadata": {
    "execution": {
     "iopub.execute_input": "2022-12-15T01:26:40.754467Z",
     "iopub.status.busy": "2022-12-15T01:26:40.753914Z",
     "iopub.status.idle": "2022-12-15T01:26:40.757798Z",
     "shell.execute_reply": "2022-12-15T01:26:40.757030Z"
    },
    "id": "ZHAxkHX5JD3k"
   },
   "outputs": [],
   "source": [
    "class_names = train_ds.class_names\n",
    "print(class_names)"
   ]
  },
  {
   "cell_type": "markdown",
   "metadata": {
    "id": "_uoVvxSLJW9m"
   },
   "source": [
    "## Visualize the data\n",
    "\n",
    "Here are the first nine images from the training dataset:"
   ]
  },
  {
   "cell_type": "code",
   "execution_count": null,
   "metadata": {
    "execution": {
     "iopub.execute_input": "2022-12-15T01:26:40.761810Z",
     "iopub.status.busy": "2022-12-15T01:26:40.761259Z",
     "iopub.status.idle": "2022-12-15T01:26:41.759633Z",
     "shell.execute_reply": "2022-12-15T01:26:41.758442Z"
    },
    "id": "wBmEA9c0JYes"
   },
   "outputs": [],
   "source": [
    "import matplotlib.pyplot as plt\n",
    "\n",
    "plt.figure(figsize=(10, 10))\n",
    "for images, labels in train_ds.take(1):\n",
    "  for i in range(9):\n",
    "    ax = plt.subplot(3, 3, i + 1)\n",
    "    plt.imshow(images[i].numpy().astype(\"uint8\"))\n",
    "    plt.title(class_names[labels[i]])\n",
    "    plt.axis(\"off\")"
   ]
  },
  {
   "cell_type": "markdown",
   "metadata": {
    "id": "5M6BXtXFJdW0"
   },
   "source": [
    "You will pass these datasets to the Keras `Model.fit` method for training later in this tutorial. If you like, you can also manually iterate over the dataset and retrieve batches of images:"
   ]
  },
  {
   "cell_type": "code",
   "execution_count": null,
   "metadata": {
    "execution": {
     "iopub.execute_input": "2022-12-15T01:26:41.778573Z",
     "iopub.status.busy": "2022-12-15T01:26:41.777740Z",
     "iopub.status.idle": "2022-12-15T01:26:41.852544Z",
     "shell.execute_reply": "2022-12-15T01:26:41.851588Z"
    },
    "id": "2-MfMoenJi8s"
   },
   "outputs": [],
   "source": [
    "for image_batch, labels_batch in train_ds:\n",
    "  print(image_batch.shape)\n",
    "  print(labels_batch.shape)\n",
    "  break"
   ]
  },
  {
   "cell_type": "markdown",
   "metadata": {
    "id": "Wj4FrKxxJkoW"
   },
   "source": [
    "The image_batch is a tensor of the shape (32, 224, 224, 3). This is a batch of 32 images of shape 180x180x3 (the last dimension refers to color channels RGB). The label_batch is a tensor of the shape (32,), these are corresponding labels to the 32 images.\n",
    "\n",
    "You can call .numpy() on the image_batch and labels_batch tensors to convert them to a numpy.ndarray."
   ]
  },
  {
   "cell_type": "markdown",
   "metadata": {
    "id": "4Dr0at41KcAU"
   },
   "source": [
    "## Configure the dataset for performance\n",
    "\n",
    "Make sure to use buffered prefetching, so you can yield data from disk without having I/O become blocking. These are two important methods you should use when loading data:\n",
    "\n",
    "- `Dataset.cache()` keeps the images in memory after they're loaded off disk during the first epoch. This will ensure the dataset does not become a bottleneck while training your model. If your dataset is too large to fit into memory, you can also use this method to create a performant on-disk cache.\n",
    "- `Dataset.prefetch`overlaps data preprocessing and model execution while training.\n",
    "\n"
   ]
  },
  {
   "cell_type": "code",
   "execution_count": null,
   "metadata": {
    "execution": {
     "iopub.execute_input": "2022-12-15T01:26:41.856864Z",
     "iopub.status.busy": "2022-12-15T01:26:41.856322Z",
     "iopub.status.idle": "2022-12-15T01:26:41.868076Z",
     "shell.execute_reply": "2022-12-15T01:26:41.867378Z"
    },
    "id": "nOjJSm7DKoZA"
   },
   "outputs": [],
   "source": [
    "AUTOTUNE = tf.data.AUTOTUNE\n",
    "\n",
    "train_ds = train_ds.cache().shuffle(1000).prefetch(buffer_size=AUTOTUNE)\n",
    "val_ds = val_ds.cache().prefetch(buffer_size=AUTOTUNE)"
   ]
  },
  {
   "cell_type": "markdown",
   "metadata": {
    "id": "8GUnmPF4JvEf"
   },
   "source": [
    "## Standardize the data"
   ]
  },
  {
   "cell_type": "markdown",
   "metadata": {
    "id": "e56VXHMWJxYT"
   },
   "source": [
    "The RGB channel values are in the `[0, 255]` range. This is not ideal for a neural network; in general you should seek to make your input values small.\n",
    "\n",
    "Here, you will standardize values to be in the `[0, 1]` range by using `tf.keras.layers.Rescaling`:"
   ]
  },
  {
   "cell_type": "code",
   "execution_count": null,
   "metadata": {
    "execution": {
     "iopub.execute_input": "2022-12-15T01:26:41.871951Z",
     "iopub.status.busy": "2022-12-15T01:26:41.871337Z",
     "iopub.status.idle": "2022-12-15T01:26:41.877760Z",
     "shell.execute_reply": "2022-12-15T01:26:41.876962Z"
    },
    "id": "PEYxo2CTJvY9"
   },
   "outputs": [],
   "source": [
    "normalization_layer = layers.Rescaling(1./255)"
   ]
  },
  {
   "cell_type": "markdown",
   "metadata": {
    "id": "Bl4RmanbJ4g0"
   },
   "source": [
    "There are two ways to use this layer. You can apply it to the dataset by calling `Dataset.map`:"
   ]
  },
  {
   "cell_type": "code",
   "execution_count": null,
   "metadata": {
    "execution": {
     "iopub.execute_input": "2022-12-15T01:26:41.881368Z",
     "iopub.status.busy": "2022-12-15T01:26:41.880855Z",
     "iopub.status.idle": "2022-12-15T01:26:42.353121Z",
     "shell.execute_reply": "2022-12-15T01:26:42.352098Z"
    },
    "id": "X9o9ESaJJ502"
   },
   "outputs": [],
   "source": [
    "normalized_ds = train_ds.map(lambda x, y: (normalization_layer(x), y))\n",
    "image_batch, labels_batch = next(iter(normalized_ds))\n",
    "first_image = image_batch[0]\n",
    "# Notice the pixel values are now in `[0,1]`.\n",
    "print(np.min(first_image), np.max(first_image))"
   ]
  },
  {
   "cell_type": "markdown",
   "metadata": {
    "id": "XWEOmRSBJ9J8"
   },
   "source": [
    "Or, you can include the layer inside your model definition, which can simplify deployment. Use the second approach here."
   ]
  },
  {
   "cell_type": "markdown",
   "metadata": {
    "id": "XsRk1xCwKZR4"
   },
   "source": [
    "> Note: You previously resized images using the `image_size` argument of `tf.keras.utils.image_dataset_from_directory`. If you want to include the resizing logic in your model as well, you can use the `tf.keras.layers.Resizing` layer."
   ]
  },
  {
   "cell_type": "markdown",
   "metadata": {
    "id": "WcUTyDOPKucd"
   },
   "source": [
    "## A basic Keras model\n",
    "\n",
    "### Create the model\n",
    "\n",
    "The Keras [Sequential](https://www.tensorflow.org/guide/keras/sequential_model) model consists of three convolution blocks (`tf.keras.layers.Conv2D`) with a max pooling layer (`tf.keras.layers.MaxPooling2D`) in each of them. There's a fully-connected layer (`tf.keras.layers.Dense`) with 128 units on top of it that is activated by a ReLU activation function (`'relu'`). This model has not been tuned for high accuracy; the goal of this tutorial is to show a standard approach."
   ]
  },
  {
   "cell_type": "code",
   "execution_count": null,
   "metadata": {
    "execution": {
     "iopub.execute_input": "2022-12-15T01:26:42.357740Z",
     "iopub.status.busy": "2022-12-15T01:26:42.357023Z",
     "iopub.status.idle": "2022-12-15T01:26:42.463892Z",
     "shell.execute_reply": "2022-12-15T01:26:42.463103Z"
    },
    "id": "QR6argA1K074"
   },
   "outputs": [],
   "source": [
    "num_classes = len(class_names)\n",
    "\n",
    "model = Sequential([\n",
    "  layers.Rescaling(1./255, input_shape=(img_height, img_width, 3)),\n",
    "  layers.Conv2D(16, 3, padding='same', activation='relu'),\n",
    "  layers.MaxPooling2D(),\n",
    "  layers.Conv2D(32, 3, padding='same', activation='relu'),\n",
    "  layers.MaxPooling2D(),\n",
    "  layers.Conv2D(64, 3, padding='same', activation='relu'),\n",
    "  layers.MaxPooling2D(),\n",
    "  layers.Flatten(),\n",
    "  layers.Dense(128, activation='relu'),\n",
    "  layers.Dense(num_classes)\n",
    "])"
   ]
  },
  {
   "cell_type": "markdown",
   "metadata": {
    "id": "EaKFzz72Lqpg"
   },
   "source": [
    "### Compile the model\n",
    "\n",
    "For this tutorial, choose the `tf.keras.optimizers.Adam` optimizer and `tf.keras.losses.SparseCategoricalCrossentropy` loss function. To view training and validation accuracy for each training epoch, pass the `metrics` argument to `Model.compile`."
   ]
  },
  {
   "cell_type": "code",
   "execution_count": null,
   "metadata": {
    "execution": {
     "iopub.execute_input": "2022-12-15T01:26:42.468502Z",
     "iopub.status.busy": "2022-12-15T01:26:42.467833Z",
     "iopub.status.idle": "2022-12-15T01:26:42.482970Z",
     "shell.execute_reply": "2022-12-15T01:26:42.482316Z"
    },
    "id": "jloGNS1MLx3A"
   },
   "outputs": [],
   "source": [
    "model.compile(optimizer='adam',\n",
    "              loss=tf.keras.losses.SparseCategoricalCrossentropy(from_logits=True),\n",
    "              metrics=['accuracy'])"
   ]
  },
  {
   "cell_type": "markdown",
   "metadata": {
    "id": "aMJ4DnuJL55A"
   },
   "source": [
    "### Model summary\n",
    "\n",
    "View all the layers of the network using the Keras `Model.summary` method:"
   ]
  },
  {
   "cell_type": "code",
   "execution_count": null,
   "metadata": {
    "execution": {
     "iopub.execute_input": "2022-12-15T01:26:42.486380Z",
     "iopub.status.busy": "2022-12-15T01:26:42.486105Z",
     "iopub.status.idle": "2022-12-15T01:26:42.511636Z",
     "shell.execute_reply": "2022-12-15T01:26:42.510588Z"
    },
    "id": "llLYH-BXL7Xe"
   },
   "outputs": [],
   "source": [
    "model.summary()"
   ]
  },
  {
   "cell_type": "markdown",
   "metadata": {
    "id": "NiYHcbvaL9H-"
   },
   "source": [
    "### Train the model"
   ]
  },
  {
   "cell_type": "markdown",
   "metadata": {
    "id": "j30F69T4sIVN"
   },
   "source": [
    "Train the model for 5 epochs with the Keras `Model.fit` method:"
   ]
  },
  {
   "cell_type": "code",
   "execution_count": null,
   "metadata": {
    "execution": {
     "iopub.execute_input": "2022-12-15T01:26:42.526303Z",
     "iopub.status.busy": "2022-12-15T01:26:42.525738Z",
     "iopub.status.idle": "2022-12-15T01:27:01.363266Z",
     "shell.execute_reply": "2022-12-15T01:27:01.362278Z"
    },
    "id": "5fWToCqYMErH"
   },
   "outputs": [],
   "source": [
    "epochs=5\n",
    "history = model.fit(\n",
    "  train_ds,\n",
    "  validation_data=val_ds,\n",
    "  epochs=epochs\n",
    ")"
   ]
  },
  {
   "cell_type": "markdown",
   "metadata": {
    "id": "SyFKdQpXMJT4"
   },
   "source": [
    "## Visualize training results"
   ]
  },
  {
   "cell_type": "markdown",
   "metadata": {
    "id": "dFvOvmAmMK9w"
   },
   "source": [
    "Create plots of the loss and accuracy on the training and validation sets:"
   ]
  },
  {
   "cell_type": "code",
   "execution_count": null,
   "metadata": {
    "execution": {
     "iopub.execute_input": "2022-12-15T01:27:01.367830Z",
     "iopub.status.busy": "2022-12-15T01:27:01.367071Z",
     "iopub.status.idle": "2022-12-15T01:27:01.820392Z",
     "shell.execute_reply": "2022-12-15T01:27:01.819532Z"
    },
    "id": "jWnopEChMMCn"
   },
   "outputs": [],
   "source": [
    "acc = history.history['accuracy']\n",
    "val_acc = history.history['val_accuracy']\n",
    "\n",
    "loss = history.history['loss']\n",
    "val_loss = history.history['val_loss']\n",
    "\n",
    "epochs_range = range(epochs)\n",
    "\n",
    "plt.figure(figsize=(8, 8))\n",
    "plt.subplot(1, 2, 1)\n",
    "plt.plot(epochs_range, acc, label='Training Accuracy')\n",
    "plt.plot(epochs_range, val_acc, label='Validation Accuracy')\n",
    "plt.legend(loc='lower right')\n",
    "plt.title('Training and Validation Accuracy')\n",
    "\n",
    "plt.subplot(1, 2, 2)\n",
    "plt.plot(epochs_range, loss, label='Training Loss')\n",
    "plt.plot(epochs_range, val_loss, label='Validation Loss')\n",
    "plt.legend(loc='upper right')\n",
    "plt.title('Training and Validation Loss')\n",
    "plt.show()"
   ]
  },
  {
   "cell_type": "markdown",
   "metadata": {
    "id": "hO_jT7HwMrEn"
   },
   "source": [
    "The plots show that training accuracy and validation accuracy are off by large margins, and the model has achieved only around 60% accuracy on the validation set.\n",
    "\n",
    "The following tutorial sections show how to inspect what went wrong and try to increase the overall performance of the model."
   ]
  },
  {
   "cell_type": "markdown",
   "metadata": {
    "id": "hqtyGodAMvNV"
   },
   "source": [
    "## Overfitting"
   ]
  },
  {
   "cell_type": "markdown",
   "metadata": {
    "id": "ixsz9XFfMxcu"
   },
   "source": [
    "In the plots above, the training accuracy is increasing linearly over time, whereas validation accuracy stalls around 60% in the training process. Also, the difference in accuracy between training and validation accuracy is noticeable—a sign of [overfitting](https://www.tensorflow.org/tutorials/keras/overfit_and_underfit).\n",
    "\n",
    "When there are a small number of training examples, the model sometimes learns from noises or unwanted details from training examples—to an extent that it negatively impacts the performance of the model on new examples. This phenomenon is known as overfitting. It means that the model will have a difficult time generalizing on a new dataset.\n",
    "\n",
    "There are multiple ways to fight overfitting in the training process. In this tutorial, you'll use *data augmentation* and add *dropout* to your model."
   ]
  },
  {
   "cell_type": "markdown",
   "metadata": {
    "id": "BDMfYqwmM1C-"
   },
   "source": [
    "## Data augmentation"
   ]
  },
  {
   "cell_type": "markdown",
   "metadata": {
    "id": "GxYwix81M2YO"
   },
   "source": [
    "Overfitting generally occurs when there are a small number of training examples.\n",
    "You will implement data augmentation using the following Keras preprocessing layers: `tf.keras.layers.RandomFlip`, `tf.keras.layers.RandomRotation`, and `tf.keras.layers.RandomZoom`. These can be included inside your model like other layers, and run on the GPU."
   ]
  },
  {
   "cell_type": "code",
   "execution_count": null,
   "metadata": {
    "execution": {
     "iopub.execute_input": "2022-12-15T01:27:01.825686Z",
     "iopub.status.busy": "2022-12-15T01:27:01.824887Z",
     "iopub.status.idle": "2022-12-15T01:27:02.715345Z",
     "shell.execute_reply": "2022-12-15T01:27:02.714506Z"
    },
    "id": "9J80BAbIMs21"
   },
   "outputs": [],
   "source": [
    "data_augmentation = keras.Sequential(\n",
    "  [\n",
    "    layers.RandomFlip(\"horizontal\",\n",
    "                      input_shape=(img_height,\n",
    "                                  img_width,\n",
    "                                  3)),\n",
    "    layers.RandomZoom(0.1),\n",
    "  ]\n",
    ")"
   ]
  },
  {
   "cell_type": "markdown",
   "metadata": {
    "id": "PN4k1dK3S6eV"
   },
   "source": [
    "Visualize a few augmented examples by applying data augmentation to the same image several times:"
   ]
  },
  {
   "cell_type": "code",
   "execution_count": null,
   "metadata": {
    "execution": {
     "iopub.execute_input": "2022-12-15T01:27:02.720006Z",
     "iopub.status.busy": "2022-12-15T01:27:02.719486Z",
     "iopub.status.idle": "2022-12-15T01:27:15.901997Z",
     "shell.execute_reply": "2022-12-15T01:27:15.901081Z"
    },
    "id": "7Z90k539S838"
   },
   "outputs": [],
   "source": [
    "plt.figure(figsize=(10, 10))\n",
    "for images, _ in train_ds.take(1):\n",
    "  for i in range(9):\n",
    "    augmented_images = data_augmentation(images)\n",
    "    ax = plt.subplot(3, 3, i + 1)\n",
    "    plt.imshow(augmented_images[0].numpy().astype(\"uint8\"))\n",
    "    plt.axis(\"off\")"
   ]
  },
  {
   "cell_type": "markdown",
   "metadata": {
    "id": "tsjXCBLYYNs5"
   },
   "source": [
    "You will add data augmentation to your model before training in the next step."
   ]
  },
  {
   "cell_type": "markdown",
   "metadata": {
    "id": "ZeD3bXepYKXs"
   },
   "source": [
    "## Dropout\n",
    "\n",
    "Another technique to reduce overfitting is to introduce [dropout](https://developers.google.com/machine-learning/glossary#dropout_regularization){:.external} regularization to the network.\n",
    "\n",
    "When you apply dropout to a layer, it randomly drops out (by setting the activation to zero) a number of output units from the layer during the training process. Dropout takes a fractional number as its input value, in the form such as 0.1, 0.2, 0.4, etc. This means dropping out 10%, 20% or 40% of the output units randomly from the applied layer.\n",
    "\n",
    "Create a new neural network with `tf.keras.layers.Dropout` before training it using the augmented images:"
   ]
  },
  {
   "cell_type": "code",
   "execution_count": null,
   "metadata": {
    "execution": {
     "iopub.execute_input": "2022-12-15T01:27:15.924279Z",
     "iopub.status.busy": "2022-12-15T01:27:15.923617Z",
     "iopub.status.idle": "2022-12-15T01:27:16.854189Z",
     "shell.execute_reply": "2022-12-15T01:27:16.853373Z"
    },
    "id": "2Zeg8zsqXCsm"
   },
   "outputs": [],
   "source": [
    "model = Sequential([\n",
    "  data_augmentation,\n",
    "  layers.Rescaling(1./255),\n",
    "  layers.Conv2D(16, 3, padding='same', activation='relu'),\n",
    "  layers.MaxPooling2D(),\n",
    "  layers.Conv2D(32, 3, padding='same', activation='relu'),\n",
    "  layers.MaxPooling2D(),\n",
    "  layers.Conv2D(64, 3, padding='same', activation='relu'),\n",
    "  layers.MaxPooling2D(),\n",
    "  layers.Dropout(0.2),\n",
    "  layers.Flatten(),\n",
    "  layers.Dense(128, activation='relu'),\n",
    "  layers.Dense(num_classes, name=\"outputs\")\n",
    "])"
   ]
  },
  {
   "cell_type": "markdown",
   "metadata": {
    "id": "L4nEcuqgZLbi"
   },
   "source": [
    "## Compile and train the model"
   ]
  },
  {
   "cell_type": "code",
   "execution_count": null,
   "metadata": {
    "execution": {
     "iopub.execute_input": "2022-12-15T01:27:16.858536Z",
     "iopub.status.busy": "2022-12-15T01:27:16.858225Z",
     "iopub.status.idle": "2022-12-15T01:27:16.867759Z",
     "shell.execute_reply": "2022-12-15T01:27:16.867090Z"
    },
    "id": "EvyAINs9ZOmJ"
   },
   "outputs": [],
   "source": [
    "model.compile(optimizer='adam',\n",
    "              loss=tf.keras.losses.SparseCategoricalCrossentropy(from_logits=True),\n",
    "              metrics=['accuracy'])"
   ]
  },
  {
   "cell_type": "code",
   "execution_count": null,
   "metadata": {
    "execution": {
     "iopub.execute_input": "2022-12-15T01:27:16.871271Z",
     "iopub.status.busy": "2022-12-15T01:27:16.870819Z",
     "iopub.status.idle": "2022-12-15T01:27:16.896878Z",
     "shell.execute_reply": "2022-12-15T01:27:16.896178Z"
    },
    "id": "wWLkKoKjZSoC"
   },
   "outputs": [],
   "source": [
    "model.summary()"
   ]
  },
  {
   "cell_type": "code",
   "execution_count": null,
   "metadata": {
    "execution": {
     "iopub.execute_input": "2022-12-15T01:27:16.907273Z",
     "iopub.status.busy": "2022-12-15T01:27:16.906719Z",
     "iopub.status.idle": "2022-12-15T01:29:25.647740Z",
     "shell.execute_reply": "2022-12-15T01:29:25.646856Z"
    },
    "id": "LWS-vvNaZDag"
   },
   "outputs": [],
   "source": [
    "from tensorflow.keras.callbacks import EarlyStopping\n",
    "\n",
    "epochs = 8\n",
    "\n",
    "# Create an EarlyStopping callback\n",
    "early_stopping = EarlyStopping(\n",
    "    monitor='val_loss',  # Monitor validation loss\n",
    "    patience=3,  # Stop training when validation loss has not improved for 3 epochs\n",
    "    verbose=1  # Log the result\n",
    ")\n",
    "\n",
    "history = model.fit(\n",
    "  train_ds,\n",
    "  validation_data=val_ds,\n",
    "  epochs=epochs,\n",
    "  callbacks=[early_stopping]  # Add the EarlyStopping callback\n",
    ")"
   ]
  },
  {
   "cell_type": "markdown",
   "metadata": {
    "id": "Lkdl8VsBbZOu"
   },
   "source": [
    "## Visualize training results\n",
    "\n",
    "After applying data augmentation and `tf.keras.layers.Dropout`, there is less overfitting than before, and training and validation accuracy are closer aligned:"
   ]
  },
  {
   "cell_type": "code",
   "execution_count": null,
   "metadata": {
    "execution": {
     "iopub.execute_input": "2022-12-15T01:29:25.652497Z",
     "iopub.status.busy": "2022-12-15T01:29:25.651722Z",
     "iopub.status.idle": "2022-12-15T01:29:25.905486Z",
     "shell.execute_reply": "2022-12-15T01:29:25.904522Z"
    },
    "id": "dduoLfKsZVIA"
   },
   "outputs": [],
   "source": [
    "acc = history.history['accuracy']\n",
    "val_acc = history.history['val_accuracy']\n",
    "\n",
    "loss = history.history['loss']\n",
    "val_loss = history.history['val_loss']\n",
    "\n",
    "epochs_range = range(epochs)\n",
    "\n",
    "plt.figure(figsize=(8, 8))\n",
    "plt.subplot(1, 2, 1)\n",
    "plt.plot(epochs_range, acc, label='Training Accuracy')\n",
    "plt.plot(epochs_range, val_acc, label='Validation Accuracy')\n",
    "plt.legend(loc='lower right')\n",
    "plt.title('Training and Validation Accuracy')\n",
    "\n",
    "plt.subplot(1, 2, 2)\n",
    "plt.plot(epochs_range, loss, label='Training Loss')\n",
    "plt.plot(epochs_range, val_loss, label='Validation Loss')\n",
    "plt.legend(loc='upper right')\n",
    "plt.title('Training and Validation Loss')\n",
    "plt.show()"
   ]
  },
  {
   "cell_type": "markdown",
   "metadata": {
    "id": "dtv5VbaVb-3W"
   },
   "source": [
    "## Predict on new data"
   ]
  },
  {
   "cell_type": "markdown",
   "metadata": {
    "id": "10buWpJbcCQz"
   },
   "source": [
    "Use your model to classify an image that wasn't included in the training or validation sets."
   ]
  },
  {
   "cell_type": "markdown",
   "metadata": {
    "id": "NKgMZ4bDcHf7"
   },
   "source": [
    "> Note: Data augmentation and dropout layers are inactive at inference time."
   ]
  },
  {
   "cell_type": "code",
   "execution_count": null,
   "metadata": {
    "execution": {
     "iopub.execute_input": "2022-12-15T01:29:25.910304Z",
     "iopub.status.busy": "2022-12-15T01:29:25.909715Z",
     "iopub.status.idle": "2022-12-15T01:29:26.150029Z",
     "shell.execute_reply": "2022-12-15T01:29:26.149074Z"
    },
    "id": "dC40sRITBSsQ"
   },
   "outputs": [],
   "source": [
    "button_url = \"https://m1.material.io/assets/0B7WCemMG6e0VbDh6YmNiYVc3SHM/components-buttons-usage2.png\"\n",
    "\n",
    "button_path = tf.keras.utils.get_file('Menus', origin=button_url)\n",
    "\n",
    "img = tf.keras.utils.load_img(\n",
    "    button_path, target_size=(img_height, img_width)\n",
    ")\n",
    "img_array = tf.keras.utils.img_to_array(img)\n",
    "img_array = tf.expand_dims(img_array, 0) # Create a batch\n",
    "\n",
    "predictions = model.predict(img_array)\n",
    "score = tf.nn.softmax(predictions[0])\n",
    "\n",
    "# print the button image\n",
    "plt.imshow(img)\n",
    "plt.axis('off')\n",
    "plt.show()\n",
    "\n",
    "print(\n",
    "    \n",
    "    \"This image most likely belongs to {} with a {:.2f} percent confidence.\"\n",
    "    .format(class_names[np.argmax(score)], 100 * np.max(score))\n",
    ")"
   ]
  },
  {
   "cell_type": "markdown",
   "metadata": {
    "id": "1RlfCY9v2_ir"
   },
   "source": [
    "## Convert to TensorFlow.js\n",
    "\n",
    "Now that you've trained your model, you can convert it to TensorFlow.js format for use in Figma. This will allow you to classify UI elements directly in Figma."
   ]
  },
  {
   "cell_type": "code",
   "execution_count": null,
   "metadata": {},
   "outputs": [],
   "source": [
    "# Save the trained model inside {root_path}\n",
    "model.save(f'{root_path}keras_model.h5')\n",
    "\n",
    "# convert the tf_saved_model to tfjs model via tensorflowjs_converter\n",
    "!tensorflowjs_converter --input_format=keras {root_path}keras_model.h5 {root_path}tfjs_model/\n"
   ]
  }
 ],
 "metadata": {
  "accelerator": "GPU",
  "colab": {
   "collapsed_sections": [],
   "name": "classification.ipynb",
   "toc_visible": true
  },
  "kernelspec": {
   "display_name": "Python 3",
   "name": "python3"
  },
  "language_info": {
   "codemirror_mode": {
    "name": "ipython",
    "version": 3
   },
   "file_extension": ".py",
   "mimetype": "text/x-python",
   "name": "python",
   "nbconvert_exporter": "python",
   "pygments_lexer": "ipython3",
   "version": "3.9.18"
  }
 },
 "nbformat": 4,
 "nbformat_minor": 0
}
